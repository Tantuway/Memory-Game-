{
 "cells": [
  {
   "cell_type": "code",
   "execution_count": 1,
   "metadata": {},
   "outputs": [],
   "source": [
    "import numpy as np\n",
    "import wfdb"
   ]
  },
  {
   "cell_type": "code",
   "execution_count": 2,
   "metadata": {},
   "outputs": [],
   "source": [
    "def get_beats(beat,records, listX,listY,ind):\n",
    "    \n",
    "    for e in records:\n",
    "        signals, fields = wfdb.rdsamp(e, channels = [0]) \n",
    "        ann = wfdb.rdann(e, 'atr')\n",
    "        ids = np.in1d(ann.symbol, beat)\n",
    "        imp_beats = ann.sample[ids]\n",
    "        beats = (ann.sample)\n",
    "        for i in imp_beats:\n",
    "            beats = list(beats)\n",
    "            j = beats.index(i)\n",
    "            if(j!=0 and j!=(len(beats)-1)):\n",
    "                x = beats[j-1]\n",
    "                y = beats[j+1]\n",
    "                diff1 = abs(x - beats[j])//2\n",
    "                diff2 = abs(y - beats[j])//2\n",
    "                listX.append(list(signals[beats[j] - diff1: beats[j] + diff2, 0]))\n",
    "                #listY.append(ind)\n",
    "                listY.append(beat[0])\n",
    "                "
   ]
  },
  {
   "cell_type": "code",
   "execution_count": 3,
   "metadata": {},
   "outputs": [],
   "source": [
    "\n",
    "ecg_beats = [['N'],['L'],['R'],['A'],['V'],['/'],['E'],['!'] ]\n",
    "ecg_beats_dir = ['NOR','LBB','RBB','APC','PVC','PAB','VEB','VFW' ]\n",
    "records = [['100','101','102','103','104','105','106','107','108','109','111','112','113','114','115','116','117','118','119','121','122','123','124','200','201','202','203','205','207','208','209','210','212','213','215','217','219','220','221','222','223','228','230','231','232','233','234'],\n",
    "           ['100','101','102','103','104','105','106','107','108','109','111','112','113','114','115','116','117','118','119','121','122','123','124','200','201','202','203','205','207','208','209','210','212','213','215','217','219','220','221','222','223','228','230','231','232','233','234'],\n",
    "           ['100','101','102','103','104','105','106','107','108','109','111','112','113','114','115','116','117','118','119','121','122','123','124','200','201','202','203','205','207','208','209','210','212','213','215','217','219','220','221','222','223','228','230','231','232','233','234'],\n",
    "           ['100','101','102','103','104','105','106','107','108','109','111','112','113','114','115','116','117','118','119','121','122','123','124','200','201','202','203','205','207','208','209','210','212','213','215','217','219','220','221','222','223','228','230','231','232','233','234'],\n",
    "           ['100','101','102','103','104','105','106','107','108','109','111','112','113','114','115','116','117','118','119','121','122','123','124','200','201','202','203','205','207','208','209','210','212','213','215','217','219','220','221','222','223','228','230','231','232','233','234'],\n",
    "           ['100','101','102','103','104','105','106','107','108','109','111','112','113','114','115','116','117','118','119','121','122','123','124','200','201','202','203','205','207','208','209','210','212','213','215','217','219','220','221','222','223','228','230','231','232','233','234'],\n",
    "           ['100','101','102','103','104','105','106','107','108','109','111','112','113','114','115','116','117','118','119','121','122','123','124','200','201','202','203','205','207','208','209','210','212','213','215','217','219','220','221','222','223','228','230','231','232','233','234'],\n",
    "           ['100','101','102','103','104','105','106','107','108','109','111','112','113','114','115','116','117','118','119','121','122','123','124','200','201','202','203','205','207','208','209','210','212','213','215','217','219','220','221','222','223','228','230','231','232','233','234']]    \n",
    "\n",
    "\n",
    "listX = []\n",
    "listY = []\n",
    "for i in range(8):\n",
    "    get_beats(ecg_beats[i],records[i],listX,listY,i)\n",
    "\n"
   ]
  },
  {
   "cell_type": "code",
   "execution_count": null,
   "metadata": {},
   "outputs": [],
   "source": []
  },
  {
   "cell_type": "code",
   "execution_count": 6,
   "metadata": {},
   "outputs": [],
   "source": [
    "for i in range(len(listX)):\n",
    "    if(len(listX[i])>250):\n",
    "        listX[i]=listX[i][0:250]       ## changed from 480 to 320 to 200\n",
    "    else:\n",
    "        le = len(listX[i])\n",
    "        le = 250-le\n",
    "        for j in range(le):\n",
    "            listX[i].append(0)\n",
    "        "
   ]
  },
  {
   "cell_type": "code",
   "execution_count": 7,
   "metadata": {},
   "outputs": [
    {
     "data": {
      "text/plain": [
       "105362"
      ]
     },
     "execution_count": 7,
     "metadata": {},
     "output_type": "execute_result"
    }
   ],
   "source": [
    "len(listY)"
   ]
  },
  {
   "cell_type": "code",
   "execution_count": 8,
   "metadata": {},
   "outputs": [
    {
     "data": {
      "text/plain": [
       "list"
      ]
     },
     "execution_count": 8,
     "metadata": {},
     "output_type": "execute_result"
    }
   ],
   "source": [
    "type(listX)"
   ]
  },
  {
   "cell_type": "code",
   "execution_count": null,
   "metadata": {},
   "outputs": [],
   "source": []
  },
  {
   "cell_type": "code",
   "execution_count": 9,
   "metadata": {},
   "outputs": [],
   "source": [
    "X_prepared = np.array(listX)\n",
    "Y_prepared = np.array(listY)"
   ]
  },
  {
   "cell_type": "code",
   "execution_count": 10,
   "metadata": {},
   "outputs": [
    {
     "name": "stdout",
     "output_type": "stream",
     "text": [
      "(105362, 250) (105362,)\n",
      "[[-0.285 -0.275 -0.275 ...  0.     0.     0.   ]\n",
      " [-0.26  -0.275 -0.28  ... -0.455 -0.47  -0.475]\n",
      " [-0.31  -0.295 -0.29  ... -0.415 -0.395 -0.395]\n",
      " [-0.32  -0.32  -0.32  ... -0.32  -0.315 -0.32 ]\n",
      " [-0.315 -0.31  -0.315 ... -0.42  -0.405 -0.38 ]]\n"
     ]
    }
   ],
   "source": [
    "print(X_prepared.shape, Y_prepared.shape)\n",
    "print(X_prepared[:5])"
   ]
  },
  {
   "cell_type": "code",
   "execution_count": 11,
   "metadata": {},
   "outputs": [
    {
     "data": {
      "text/plain": [
       "array(['N', 'N', 'N', ..., '!', '!', '!'], dtype='<U1')"
      ]
     },
     "execution_count": 11,
     "metadata": {},
     "output_type": "execute_result"
    }
   ],
   "source": [
    "Y_prepared"
   ]
  },
  {
   "cell_type": "code",
   "execution_count": 12,
   "metadata": {},
   "outputs": [],
   "source": [
    "X_prepared = X_prepared.reshape((X_prepared.shape[0],X_prepared.shape[1],1))"
   ]
  },
  {
   "cell_type": "code",
   "execution_count": 13,
   "metadata": {},
   "outputs": [
    {
     "name": "stdout",
     "output_type": "stream",
     "text": [
      "[[0. 0. 0. ... 1. 0. 0.]\n",
      " [0. 0. 0. ... 1. 0. 0.]\n",
      " [0. 0. 0. ... 1. 0. 0.]\n",
      " ...\n",
      " [1. 0. 0. ... 0. 0. 0.]\n",
      " [1. 0. 0. ... 0. 0. 0.]\n",
      " [1. 0. 0. ... 0. 0. 0.]]\n"
     ]
    }
   ],
   "source": [
    "from sklearn.model_selection import train_test_split\n",
    "from sklearn.preprocessing import LabelEncoder, StandardScaler\n",
    "from tensorflow.keras.utils import to_categorical\n",
    "\n",
    "le = LabelEncoder()\n",
    "Y_prepared = le.fit_transform(Y_prepared)\n",
    "Y_prepared = to_categorical(Y_prepared, 8)\n",
    "(trainX, testX, trainY, testY) = train_test_split(X_prepared,Y_prepared, test_size=0.25, random_state=500)\n",
    "print(Y_prepared)"
   ]
  },
  {
   "cell_type": "code",
   "execution_count": 14,
   "metadata": {},
   "outputs": [
    {
     "data": {
      "text/plain": [
       "250"
      ]
     },
     "execution_count": 14,
     "metadata": {},
     "output_type": "execute_result"
    }
   ],
   "source": [
    "len(testX[0])"
   ]
  },
  {
   "cell_type": "code",
   "execution_count": 15,
   "metadata": {},
   "outputs": [
    {
     "data": {
      "text/plain": [
       "array([0., 0., 0., 0., 0., 1., 0., 0.], dtype=float32)"
      ]
     },
     "execution_count": 15,
     "metadata": {},
     "output_type": "execute_result"
    }
   ],
   "source": [
    "testY[6]"
   ]
  },
  {
   "cell_type": "code",
   "execution_count": 16,
   "metadata": {},
   "outputs": [],
   "source": [
    "# scaler = StandardScaler()\n",
    "# trainX = scaler.fit_transform(trainX)\n",
    "# testX = scaler.transform(testX)"
   ]
  },
  {
   "cell_type": "code",
   "execution_count": 17,
   "metadata": {},
   "outputs": [],
   "source": [
    "np.save('trainX.npy', trainX)\n",
    "np.save('testX.npy', testX)\n",
    "np.save('trainY.npy', trainY)\n",
    "np.save('testY.npy', testY)\n",
    "np.save('classes.npy', le.classes_)"
   ]
  },
  {
   "cell_type": "code",
   "execution_count": 18,
   "metadata": {},
   "outputs": [],
   "source": [
    "import keras\n",
    "from keras import optimizers, losses, activations, models\n",
    "from keras.layers import Conv1D , MaxPooling1D , Dense ,Activation, Dropout ,GlobalMaxPooling1D , Input , Flatten\n",
    "from keras.optimizers import Adam\n",
    "from keras import layers "
   ]
  },
  {
   "cell_type": "code",
   "execution_count": null,
   "metadata": {},
   "outputs": [],
   "source": []
  },
  {
   "cell_type": "code",
   "execution_count": 19,
   "metadata": {},
   "outputs": [
    {
     "name": "stdout",
     "output_type": "stream",
     "text": [
      "Model: \"sequential\"\n",
      "_________________________________________________________________\n",
      "Layer (type)                 Output Shape              Param #   \n",
      "=================================================================\n",
      "Conv_C1 (Conv1D)             (None, 248, 16)           64        \n",
      "_________________________________________________________________\n",
      "max_pooling1d (MaxPooling1D) (None, 124, 16)           0         \n",
      "_________________________________________________________________\n",
      "Dropout_C1 (Dropout)         (None, 124, 16)           0         \n",
      "_________________________________________________________________\n",
      "Conv_C2 (Conv1D)             (None, 122, 32)           1568      \n",
      "_________________________________________________________________\n",
      "max_pooling1d_1 (MaxPooling1 (None, 61, 32)            0         \n",
      "_________________________________________________________________\n",
      "Dropout_C2 (Dropout)         (None, 61, 32)            0         \n",
      "_________________________________________________________________\n",
      "max_pooling1d_2 (MaxPooling1 (None, 20, 32)            0         \n",
      "_________________________________________________________________\n",
      "Dropout_C21 (Dropout)        (None, 20, 32)            0         \n",
      "_________________________________________________________________\n",
      "Conv_C3 (Conv1D)             (None, 18, 8)             776       \n",
      "_________________________________________________________________\n",
      "flatten (Flatten)            (None, 144)               0         \n",
      "_________________________________________________________________\n",
      "Dropout_C3 (Dropout)         (None, 144)               0         \n",
      "_________________________________________________________________\n",
      "Dense_D1 (Dense)             (None, 8)                 1160      \n",
      "_________________________________________________________________\n",
      "Dense_D2 (Dense)             (None, 16)                144       \n",
      "_________________________________________________________________\n",
      "Dense_D3 (Dense)             (None, 8)                 136       \n",
      "=================================================================\n",
      "Total params: 3,848\n",
      "Trainable params: 3,848\n",
      "Non-trainable params: 0\n",
      "_________________________________________________________________\n"
     ]
    }
   ],
   "source": [
    "model = keras.Sequential()\n",
    "model.add(keras.Input(shape=(250,1)))   #320-200\n",
    "\n",
    "model.add(layers.Conv1D(16, kernel_size=3 ,activation=activations.relu, name='Conv_C1'))\n",
    "#model.add(Activation(activation='relu', name='relu_C1'))\n",
    "model.add(layers.MaxPooling1D(pool_size=2))  \n",
    "model.add(layers.Dropout(rate=0.1,name='Dropout_C1'))\n",
    "\n",
    "model.add(layers.Conv1D(32, kernel_size=3,activation=activations.relu, name='Conv_C2'))\n",
    "#model.add(Activation(activation='relu', name='relu_C2'))\n",
    "model.add(layers.MaxPooling1D(pool_size=2))  ## increase pool size \n",
    "model.add(layers.Dropout(rate=0.1,name='Dropout_C2'))\n",
    "\n",
    "#model.add(layers.Conv1D(32, kernel_size=3))\n",
    "#model.add(Activation(activation='relu', name='relu3'))\n",
    "model.add(layers.MaxPooling1D(pool_size=3))\n",
    "model.add(layers.Dropout(rate=0.1,name='Dropout_C21'))\n",
    "\n",
    "model.add(layers.Conv1D(8, kernel_size=3,activation=activations.relu, name='Conv_C3')) ## changed from 64 to 8\n",
    "#model.add(Activation(activation='relu', name='relu_C3'))\n",
    "model.add(layers.Flatten())                     \n",
    "model.add(layers.Dropout(rate=0.2,name='Dropout_C3'))\n",
    "\n",
    "model.add(layers.Dense(8,name='Dense_D1',activation='relu'))\n",
    "#model.add(Activation(activation='relu', name='relu_D1'))\n",
    "\n",
    "model.add(layers.Dense(16,name='Dense_D2',activation='relu'))\n",
    "#model.add(Activation(activation='relu', name='relu_D2'))\n",
    "\n",
    "model.add(layers.Dense(8,name='Dense_D3',activation='softmax'))\n",
    "#model.add(Activation(activation='softmax', name='softmax'))\n",
    "\n",
    "opt = optimizers.Adam(0.001)\n",
    "model.compile(optimizer=opt, loss=losses.categorical_crossentropy, metrics=['accuracy'])\n",
    "\n",
    "\n",
    "model.summary()"
   ]
  },
  {
   "cell_type": "code",
   "execution_count": 20,
   "metadata": {},
   "outputs": [],
   "source": [
    "# model = keras.Sequential()\n",
    "# model.add(keras.Input(shape=(480,1)))\n",
    "# model.add(layers.Conv1D(16, kernel_size=5, activation=activations.relu))\n",
    "\n",
    "\n",
    "# model.add(layers.Conv1D(16, kernel_size=5, activation=activations.relu))\n",
    "# model.add(layers.MaxPooling1D(pool_size=2))\n",
    "# model.add(layers.Dropout(rate=0.1))\n",
    "\n",
    "# model.add(layers.Conv1D(32, kernel_size=3, activation=activations.relu))\n",
    "# model.add(layers.Conv1D(32, kernel_size=3, activation=activations.relu))\n",
    "# model.add(layers.MaxPooling1D(pool_size=2))\n",
    "# model.add(layers.Dropout(rate=0.1))\n",
    "\n",
    "# model.add(layers.Conv1D(32, kernel_size=3, activation=activations.relu))\n",
    "# model.add(layers.Conv1D(32, kernel_size=3, activation=activations.relu))\n",
    "# model.add(layers.MaxPooling1D(pool_size=2))\n",
    "# model.add(layers.Dropout(rate=0.1))\n",
    "\n",
    "# model.add(layers.Conv1D(256, kernel_size=3, activation=activations.relu))\n",
    "# model.add(layers.Conv1D(256, kernel_size=3, activation=activations.relu))\n",
    "# #model.add(layers.GlobalMaxPooling1D())\n",
    "# model.add(layers.Flatten())\n",
    "# model.add(layers.Dropout(rate=0.2))\n",
    "\n",
    "# model.add(layers.Dense(256, activation=activations.relu))\n",
    "# model.add(layers.Dense(256, activation=activations.relu))\n",
    "# model.add(layers.Dense(8,activation=activations.softmax))\n",
    "\n",
    "# opt = optimizers.Adam(0.001)\n",
    "# model.compile(optimizer=opt, loss=losses.categorical_crossentropy, metrics=['accuracy'])\n",
    "\n",
    "\n",
    "# model.summary()"
   ]
  },
  {
   "cell_type": "code",
   "execution_count": 21,
   "metadata": {},
   "outputs": [
    {
     "name": "stdout",
     "output_type": "stream",
     "text": [
      "618/618 [==============================] - 16s 26ms/step - loss: 0.8203 - accuracy: 0.7519\n"
     ]
    },
    {
     "data": {
      "text/plain": [
       "<tensorflow.python.keras.callbacks.History at 0x7f13dc5b7e10>"
      ]
     },
     "execution_count": 21,
     "metadata": {},
     "output_type": "execute_result"
    }
   ],
   "source": [
    "model.fit(trainX ,trainY ,batch_size = 128 ,epochs = 1,)"
   ]
  },
  {
   "cell_type": "code",
   "execution_count": 22,
   "metadata": {},
   "outputs": [
    {
     "name": "stdout",
     "output_type": "stream",
     "text": [
      "206/206 [==============================] - 1s 7ms/step - loss: 0.4901 - accuracy: 0.8562\n"
     ]
    }
   ],
   "source": [
    "score = model.evaluate(testX , testY , batch_size = 128)"
   ]
  },
  {
   "cell_type": "code",
   "execution_count": 23,
   "metadata": {},
   "outputs": [
    {
     "data": {
      "text/plain": [
       "['loss', 'accuracy']"
      ]
     },
     "execution_count": 23,
     "metadata": {},
     "output_type": "execute_result"
    }
   ],
   "source": [
    "model.metrics_names"
   ]
  },
  {
   "cell_type": "code",
   "execution_count": 24,
   "metadata": {},
   "outputs": [
    {
     "data": {
      "text/plain": [
       "[0.49012601375579834, 0.8562317490577698]"
      ]
     },
     "execution_count": 24,
     "metadata": {},
     "output_type": "execute_result"
    }
   ],
   "source": [
    "score"
   ]
  },
  {
   "cell_type": "code",
   "execution_count": 25,
   "metadata": {},
   "outputs": [],
   "source": [
    "model.save('ecg4btp_model.h5')\n"
   ]
  },
  {
   "cell_type": "code",
   "execution_count": null,
   "metadata": {},
   "outputs": [],
   "source": []
  },
  {
   "cell_type": "code",
   "execution_count": null,
   "metadata": {},
   "outputs": [],
   "source": []
  },
  {
   "cell_type": "markdown",
   "metadata": {},
   "source": [
    "### BTP 2.0"
   ]
  },
  {
   "cell_type": "code",
   "execution_count": 26,
   "metadata": {},
   "outputs": [],
   "source": [
    "# from tensorflow.keras.models import load_model\n",
    "#model = load_model('model_11/ECG4btp.h5')"
   ]
  },
  {
   "cell_type": "code",
   "execution_count": 27,
   "metadata": {},
   "outputs": [],
   "source": [
    "import os\n",
    "os.environ['PATH'] = '/opt/Xilinx/Vivado/2019.2/bin:' + os.environ['PATH']"
   ]
  },
  {
   "cell_type": "code",
   "execution_count": 28,
   "metadata": {},
   "outputs": [
    {
     "data": {
      "text/plain": [
       "array(['!', '/', 'A', 'E', 'L', 'N', 'R', 'V'], dtype='<U1')"
      ]
     },
     "execution_count": 28,
     "metadata": {},
     "output_type": "execute_result"
    }
   ],
   "source": [
    "le.classes_"
   ]
  },
  {
   "cell_type": "code",
   "execution_count": 29,
   "metadata": {},
   "outputs": [
    {
     "name": "stdout",
     "output_type": "stream",
     "text": [
      "Accuracy: 0.8562317300026575\n"
     ]
    },
    {
     "data": {
      "image/png": "[encoded data removed]",
      "text/plain": [
       "<matplotlib.figure.Figure at 0x7f13d4660550>"
      ]
     },
     "metadata": {
      "needs_background": "light"
     },
     "output_type": "display_data"
    }
   ],
   "source": [
    "%matplotlib inline\n",
    "import plotting\n",
    "import matplotlib.pyplot as plt\n",
    "from sklearn.metrics import accuracy_score\n",
    "y_keras = model.predict(testX)\n",
    "print(\"Accuracy: {}\".format(accuracy_score(np.argmax(testY, axis=1), np.argmax(y_keras, axis=1))))\n",
    "plt.figure(figsize=(9,9))\n",
    "_ = plotting.makeRoc(testY, y_keras, le.classes_)"
   ]
  },
  {
   "cell_type": "code",
   "execution_count": 30,
   "metadata": {},
   "outputs": [
    {
     "name": "stdout",
     "output_type": "stream",
     "text": [
      "Interpreting Sequential\n",
      "Topology:\n",
      "Layer name: input_1, layer type: Input\n",
      "Layer name: Conv_C1, layer type: Conv1D\n",
      "  -> Activation (relu), layer name: Conv_C1\n",
      "Layer name: max_pooling1d, layer type: MaxPooling1D\n",
      "Layer name: Conv_C2, layer type: Conv1D\n",
      "  -> Activation (relu), layer name: Conv_C2\n",
      "Layer name: max_pooling1d_1, layer type: MaxPooling1D\n",
      "Layer name: max_pooling1d_2, layer type: MaxPooling1D\n",
      "Layer name: Conv_C3, layer type: Conv1D\n",
      "  -> Activation (relu), layer name: Conv_C3\n",
      "Layer name: Dense_D1, layer type: Dense\n",
      "  -> Activation (relu), layer name: Dense_D1\n",
      "Layer name: Dense_D2, layer type: Dense\n",
      "  -> Activation (relu), layer name: Dense_D2\n",
      "Layer name: Dense_D3, layer type: Dense\n",
      "  -> Activation (softmax), layer name: Dense_D3\n",
      "-----------------------------------\n"
     ]
    }
   ],
   "source": [
    "\n",
    "\n",
    "import hls4ml\n",
    "config = hls4ml.utils.config_from_keras_model(model, granularity='name')\n",
    "print(\"-----------------------------------\")\n",
    "\n"
   ]
  },
  {
   "cell_type": "code",
   "execution_count": 31,
   "metadata": {},
   "outputs": [],
   "source": [
    "config['Model']['ReuseFactor'] = 48\n",
    "config['Model']['Strategy'] = 'Resource'\n",
    "config['LayerName']['Conv_C1']['ReuseFactor'] = 48\n",
    "config['LayerName']['Conv_C2']['ReuseFactor'] = 1536\n",
    "config['LayerName']['Conv_C3']['ReuseFactor'] = 768\n",
    "\n",
    "config['LayerName']['Dense_D1']['ReuseFactor'] = 1408\n",
    "config['LayerName']['Dense_D2']['ReuseFactor'] = 128\n",
    "config['LayerName']['Dense_D3']['ReuseFactor'] = 128\n",
    "\n",
    "\n"
   ]
  },
  {
   "cell_type": "code",
   "execution_count": 32,
   "metadata": {},
   "outputs": [
    {
     "name": "stdout",
     "output_type": "stream",
     "text": [
      "Configuration\n",
      "Model\n",
      "  Precision:         ap_fixed<16,6>\n",
      "  ReuseFactor:       48\n",
      "  Strategy:          Resource\n",
      "LayerName\n",
      "  input_1\n",
      "    Precision\n",
      "      result:        ap_fixed<16,6>\n",
      "  Conv_C1\n",
      "    Precision\n",
      "      weight:        ap_fixed<16,6>\n",
      "      bias:          ap_fixed<16,6>\n",
      "      result:        ap_fixed<16,6>\n",
      "    ReuseFactor:     48\n",
      "  Conv_C1_relu\n",
      "    Precision:       ap_fixed<16,6>\n",
      "    ReuseFactor:     1\n",
      "    table_size:      1024\n",
      "    table_t:         ap_fixed<18,8>\n",
      "  max_pooling1d\n",
      "    Precision:       ap_fixed<16,6>\n",
      "  Conv_C2\n",
      "    Precision\n",
      "      weight:        ap_fixed<16,6>\n",
      "      bias:          ap_fixed<16,6>\n",
      "      result:        ap_fixed<16,6>\n",
      "    ReuseFactor:     1536\n",
      "  Conv_C2_relu\n",
      "    Precision:       ap_fixed<16,6>\n",
      "    ReuseFactor:     1\n",
      "    table_size:      1024\n",
      "    table_t:         ap_fixed<18,8>\n",
      "  max_pooling1d_1\n",
      "    Precision:       ap_fixed<16,6>\n",
      "  max_pooling1d_2\n",
      "    Precision:       ap_fixed<16,6>\n",
      "  Conv_C3\n",
      "    Precision\n",
      "      weight:        ap_fixed<16,6>\n",
      "      bias:          ap_fixed<16,6>\n",
      "      result:        ap_fixed<16,6>\n",
      "    ReuseFactor:     768\n",
      "  Conv_C3_relu\n",
      "    Precision:       ap_fixed<16,6>\n",
      "    ReuseFactor:     1\n",
      "    table_size:      1024\n",
      "    table_t:         ap_fixed<18,8>\n",
      "  Dense_D1\n",
      "    Precision\n",
      "      weight:        ap_fixed<16,6>\n",
      "      bias:          ap_fixed<16,6>\n",
      "      result:        ap_fixed<16,6>\n",
      "    ReuseFactor:     1408\n",
      "  Dense_D1_relu\n",
      "    Precision:       ap_fixed<16,6>\n",
      "    ReuseFactor:     1\n",
      "    table_size:      1024\n",
      "    table_t:         ap_fixed<18,8>\n",
      "  Dense_D2\n",
      "    Precision\n",
      "      weight:        ap_fixed<16,6>\n",
      "      bias:          ap_fixed<16,6>\n",
      "      result:        ap_fixed<16,6>\n",
      "    ReuseFactor:     128\n",
      "  Dense_D2_relu\n",
      "    Precision:       ap_fixed<16,6>\n",
      "    ReuseFactor:     1\n",
      "    table_size:      1024\n",
      "    table_t:         ap_fixed<18,8>\n",
      "  Dense_D3\n",
      "    Precision\n",
      "      weight:        ap_fixed<16,6>\n",
      "      bias:          ap_fixed<16,6>\n",
      "      result:        ap_fixed<16,6>\n",
      "    ReuseFactor:     128\n",
      "  Dense_D3_softmax\n",
      "    Precision:       ap_fixed<16,6>\n",
      "    ReuseFactor:     1\n",
      "    table_size:      1024\n",
      "    table_t:         ap_fixed<18,8>\n",
      "-----------------------------------\n"
     ]
    }
   ],
   "source": [
    "print(\"Configuration\")\n",
    "plotting.print_dict(config)\n",
    "print(\"-----------------------------------\")"
   ]
  },
  {
   "cell_type": "code",
   "execution_count": 33,
   "metadata": {},
   "outputs": [],
   "source": [
    "#config['Model']['ReuseFactor'] = 50\n"
   ]
  },
  {
   "cell_type": "code",
   "execution_count": 34,
   "metadata": {},
   "outputs": [
    {
     "name": "stdout",
     "output_type": "stream",
     "text": [
      "Interpreting Sequential\n",
      "Topology:\n",
      "Layer name: input_1, layer type: InputLayer, current shape: [[None, 250, 1]]\n",
      "Layer name: Conv_C1, layer type: Conv1D, current shape: [[None, 250, 1]]\n",
      "Layer name: max_pooling1d, layer type: MaxPooling1D, current shape: [[None, 248, 16]]\n",
      "Layer name: Conv_C2, layer type: Conv1D, current shape: [[None, 124, 16]]\n",
      "Layer name: max_pooling1d_1, layer type: MaxPooling1D, current shape: [[None, 122, 32]]\n",
      "Layer name: max_pooling1d_2, layer type: MaxPooling1D, current shape: [[None, 61, 32]]\n",
      "Layer name: Conv_C3, layer type: Conv1D, current shape: [[None, 20, 32]]\n",
      "Layer name: Dense_D1, layer type: Dense, current shape: [[None, 18, 8]]\n",
      "Layer name: Dense_D2, layer type: Dense, current shape: [[None, 8]]\n",
      "Layer name: Dense_D3, layer type: Dense, current shape: [[None, 16]]\n",
      "Creating HLS model\n",
      "WARNING: Invalid ReuseFactor=1408 with \"Resource\" strategy in layer \"Dense_D1\". Using ReuseFactor=1152 instead. Valid ReuseFactor(s): 2,3,4,6,8,9,12,16,18,24,36,48,72,144,288,576,1152.\n"
     ]
    }
   ],
   "source": [
    "# hls_model = hls4ml.converters.convert_from_keras_model(model,\n",
    "#                                                        hls_config=config,\n",
    "#                                                        output_dir='model_1/hls4ml_prj',\n",
    "#                                                        fpga_part='xcu250-figd2104-2L-e')\n",
    "\n",
    "# Xilinx_ZedBoard        xc7z020clg484-1\n",
    "# Xilinx Virtex-7 FPGA   xc7vx690tffg1761-2\n",
    "\n",
    "\n",
    "hls_model = hls4ml.converters.convert_from_keras_model(model,\n",
    "                                                       hls_config=config,\n",
    "                                                       output_dir='model_1/hls4ml_prj',\n",
    "                                                       fpga_part='xc7vx690tffg1761-2')\n"
   ]
  },
  {
   "cell_type": "code",
   "execution_count": 35,
   "metadata": {},
   "outputs": [
    {
     "name": "stdout",
     "output_type": "stream",
     "text": [
      "Failed to import pydot. You must install pydot and graphviz for `pydotprint` to work.\n"
     ]
    }
   ],
   "source": [
    "import pydot\n",
    "import graphviz\n",
    "hls4ml.utils.plot_model(hls_model, show_shapes=True, show_precision=True, to_file=None)"
   ]
  },
  {
   "cell_type": "markdown",
   "metadata": {},
   "source": [
    "## Compile, predict\n"
   ]
  },
  {
   "cell_type": "code",
   "execution_count": 37,
   "metadata": {},
   "outputs": [
    {
     "name": "stdout",
     "output_type": "stream",
     "text": [
      "Writing HLS project\n",
      "Done\n"
     ]
    }
   ],
   "source": [
    "hls_model.compile()"
   ]
  },
  {
   "cell_type": "markdown",
   "metadata": {},
   "source": [
    "## Synthesize\n"
   ]
  },
  {
   "cell_type": "code",
   "execution_count": null,
   "metadata": {},
   "outputs": [],
   "source": [
    "hls_model.build(csim=False)"
   ]
  },
  {
   "cell_type": "markdown",
   "metadata": {},
   "source": [
    "## Reports\n"
   ]
  },
  {
   "cell_type": "code",
   "execution_count": 120,
   "metadata": {},
   "outputs": [
    {
     "name": "stdout",
     "output_type": "stream",
     "text": [
      "Found 1 solution(s) in model_1/hls4ml_prj//myproject_prj.\n",
      "Reports for solution \"solution1\":\n",
      "\n",
      "C simulation report not found.\n",
      "SYNTHESIS REPORT:\n",
      "================================================================\n",
      "== Vivado HLS Report for 'myproject'\n",
      "================================================================\n",
      "* Date:           Sun Mar 14 18:29:07 2021\n",
      "\n",
      "* Version:        2019.2 (Build 2704478 on Wed Nov 06 22:10:23 MST 2019)\n",
      "* Project:        myproject_prj\n",
      "* Solution:       solution1\n",
      "* Product family: virtexuplus\n",
      "* Target device:  xcu250-figd2104-2L-e\n",
      "\n",
      "\n",
      "================================================================\n",
      "== Performance Estimates\n",
      "================================================================\n",
      "+ Timing: \n",
      "    * Summary: \n",
      "    +--------+---------+----------+------------+\n",
      "    |  Clock |  Target | Estimated| Uncertainty|\n",
      "    +--------+---------+----------+------------+\n",
      "    |ap_clk  | 5.00 ns | 4.357 ns |   0.62 ns  |\n",
      "    +--------+---------+----------+------------+\n",
      "\n",
      "+ Latency: \n",
      "    * Summary: \n",
      "    +---------+---------+-----------+-----------+-----+-----+----------+\n",
      "    |  Latency (cycles) |   Latency (absolute)  |  Interval | Pipeline |\n",
      "    |   min   |   max   |    min    |    max    | min | max |   Type   |\n",
      "    +---------+---------+-----------+-----------+-----+-----+----------+\n",
      "    |       10|       10| 50.000 ns | 50.000 ns |    1|    1| function |\n",
      "    +---------+---------+-----------+-----------+-----+-----+----------+\n",
      "\n",
      "    + Detail: \n",
      "        * Instance: \n",
      "        +----------------------------------------------------------------------+-----------------------------------------------------------+---------+---------+-----------+-----------+-----+-----+----------+\n",
      "        |                                                                      |                                                           |  Latency (cycles) |   Latency (absolute)  |  Interval | Pipeline |\n",
      "        |                               Instance                               |                           Module                          |   min   |   max   |    min    |    max    | min | max |   Type   |\n",
      "        +----------------------------------------------------------------------+-----------------------------------------------------------+---------+---------+-----------+-----------+-----+-----+----------+\n",
      "        |grp_dense_latency_ap_fixed_ap_fixed_config2_0_0_0_0_0_0_0_0_0_fu_146  |dense_latency_ap_fixed_ap_fixed_config2_0_0_0_0_0_0_0_0_0  |        1|        1|  5.000 ns |  5.000 ns |    1|    1| function |\n",
      "        |grp_dense_latency_0_0_0_0_0_0_0_0_0_0_0_0_0_0_0_0_0_fu_152            |dense_latency_0_0_0_0_0_0_0_0_0_0_0_0_0_0_0_0_0            |        1|        1|  5.000 ns |  5.000 ns |    1|    1| function |\n",
      "        |grp_dense_latency_ap_fixed_ap_fixed_config8_0_0_0_0_0_0_0_0_0_fu_164  |dense_latency_ap_fixed_ap_fixed_config8_0_0_0_0_0_0_0_0_0  |        1|        1|  5.000 ns |  5.000 ns |    1|    1| function |\n",
      "        |grp_softmax_latency_ap_fixed_ap_fixed_softmax_config10_s_fu_184       |softmax_latency_ap_fixed_ap_fixed_softmax_config10_s       |        3|        3| 15.000 ns | 15.000 ns |    1|    1| function |\n",
      "        |call_ret3_relu_ap_fixed_ap_fixed_16_6_5_3_0_relu_config7_s_fu_200     |relu_ap_fixed_ap_fixed_16_6_5_3_0_relu_config7_s           |        0|        0|    0 ns   |    0 ns   |    1|    1| function |\n",
      "        |call_ret1_relu_ap_fixed_ap_fixed_16_6_5_3_0_relu_config4_s_fu_220     |relu_ap_fixed_ap_fixed_16_6_5_3_0_relu_config4_s           |        0|        0|    0 ns   |    0 ns   |    1|    1| function |\n",
      "        +----------------------------------------------------------------------+-----------------------------------------------------------+---------+---------+-----------+-----------+-----+-----+----------+\n",
      "\n",
      "        * Loop: \n",
      "        N/A\n",
      "\n",
      "\n",
      "\n",
      "================================================================\n",
      "== Utilization Estimates\n",
      "================================================================\n",
      "* Summary: \n",
      "+---------------------+---------+-------+---------+---------+------+\n",
      "|         Name        | BRAM_18K| DSP48E|    FF   |   LUT   | URAM |\n",
      "+---------------------+---------+-------+---------+---------+------+\n",
      "|DSP                  |        -|      -|        -|        -|     -|\n",
      "|Expression           |        -|      -|        0|        6|     -|\n",
      "|FIFO                 |        -|      -|        -|        -|     -|\n",
      "|Instance             |        5|   2227|     7260|    70049|     -|\n",
      "|Memory               |        -|      -|        -|        -|     -|\n",
      "|Multiplexer          |        -|      -|        -|       36|     -|\n",
      "|Register             |        -|      -|     5901|        -|     -|\n",
      "+---------------------+---------+-------+---------+---------+------+\n",
      "|Total                |        5|   2227|    13161|    70091|     0|\n",
      "+---------------------+---------+-------+---------+---------+------+\n",
      "|Available SLR        |     1344|   3072|   864000|   432000|   320|\n",
      "+---------------------+---------+-------+---------+---------+------+\n",
      "|Utilization SLR (%)  |    ~0   |     72|        1|       16|     0|\n",
      "+---------------------+---------+-------+---------+---------+------+\n",
      "|Available            |     5376|  12288|  3456000|  1728000|  1280|\n",
      "+---------------------+---------+-------+---------+---------+------+\n",
      "|Utilization (%)      |    ~0   |     18|    ~0   |        4|     0|\n",
      "+---------------------+---------+-------+---------+---------+------+\n",
      "\n",
      "+ Detail: \n",
      "    * Instance: \n",
      "    +----------------------------------------------------------------------+-----------------------------------------------------------+---------+-------+------+-------+-----+\n",
      "    |                               Instance                               |                           Module                          | BRAM_18K| DSP48E|  FF  |  LUT  | URAM|\n",
      "    +----------------------------------------------------------------------+-----------------------------------------------------------+---------+-------+------+-------+-----+\n",
      "    |grp_dense_latency_0_0_0_0_0_0_0_0_0_0_0_0_0_0_0_0_0_fu_152            |dense_latency_0_0_0_0_0_0_0_0_0_0_0_0_0_0_0_0_0            |        0|    115|   399|   3095|    0|\n",
      "    |grp_dense_latency_ap_fixed_ap_fixed_config2_0_0_0_0_0_0_0_0_0_fu_146  |dense_latency_ap_fixed_ap_fixed_config2_0_0_0_0_0_0_0_0_0  |        0|   1983|  6187|  63092|    0|\n",
      "    |grp_dense_latency_ap_fixed_ap_fixed_config8_0_0_0_0_0_0_0_0_0_fu_164  |dense_latency_ap_fixed_ap_fixed_config8_0_0_0_0_0_0_0_0_0  |        0|    121|   398|   2876|    0|\n",
      "    |call_ret1_relu_ap_fixed_ap_fixed_16_6_5_3_0_relu_config4_s_fu_220     |relu_ap_fixed_ap_fixed_16_6_5_3_0_relu_config4_s           |        0|      0|     0|    224|    0|\n",
      "    |call_ret3_relu_ap_fixed_ap_fixed_16_6_5_3_0_relu_config7_s_fu_200     |relu_ap_fixed_ap_fixed_16_6_5_3_0_relu_config7_s           |        0|      0|     0|    448|    0|\n",
      "    |grp_softmax_latency_ap_fixed_ap_fixed_softmax_config10_s_fu_184       |softmax_latency_ap_fixed_ap_fixed_softmax_config10_s       |        5|      8|   276|    314|    0|\n",
      "    +----------------------------------------------------------------------+-----------------------------------------------------------+---------+-------+------+-------+-----+\n",
      "    |Total                                                                 |                                                           |        5|   2227|  7260|  70049|    0|\n",
      "    +----------------------------------------------------------------------+-----------------------------------------------------------+---------+-------+------+-------+-----+\n",
      "\n",
      "Co-simulation report not found.\n"
     ]
    }
   ],
   "source": [
    "hls4ml.report.read_vivado_report('model_1/hls4ml_prj/')"
   ]
  },
  {
   "cell_type": "code",
   "execution_count": null,
   "metadata": {},
   "outputs": [],
   "source": []
  }
 ],
 "metadata": {
  "kernelspec": {
   "display_name": "Python 3",
   "language": "python",
   "name": "python3"
  },
  "language_info": {
   "codemirror_mode": {
    "name": "ipython",
    "version": 3
   },
   "file_extension": ".py",
   "mimetype": "text/x-python",
   "name": "python",
   "nbconvert_exporter": "python",
   "pygments_lexer": "ipython3",
   "version": "3.6.9"
  }
 },
 "nbformat": 4,
 "nbformat_minor": 4
}
